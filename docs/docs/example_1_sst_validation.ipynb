{
 "cells": [
  {
   "cell_type": "markdown",
   "metadata": {},
   "source": [
    "# **Example 1: Validating Sea Surface Temperature**\n",
    "\n",
    "### **Description:**\n",
    "\n",
    "This Notebook demonstrates how to create a ModelValidator object using an example ocean model dataset produced as part of the UK National Oceanography Centre's [Near-Present-Day](https://noc-msm.github.io/NOC_Near_Present_Day/) simulations & validate the sea surface temperature field."
   ]
  },
  {
   "cell_type": "code",
   "execution_count": null,
   "metadata": {},
   "outputs": [],
   "source": [
    "# -- Import required libraries -- #\n",
    "import xarray as xr\n",
    "from ValidOcean import ModelValidator"
   ]
  },
  {
   "cell_type": "code",
   "execution_count": null,
   "metadata": {},
   "outputs": [],
   "source": [
    "# -- Prepare Ocean Model Data -- #\n",
    "# Define url to eORCA1 ERA-5 v1 sea surface temperature data:\n",
    "url = \"https://noc-msm-o.s3-ext.jc.rl.ac.uk/npd-eorca1-era5v1/T1m/tos_con/\"\n",
    "\n",
    "# Open as xarray Dataset:\n",
    "ds = xr.open_zarr(url, consolidated=True)\n",
    "\n",
    "ds"
   ]
  },
  {
   "cell_type": "code",
   "execution_count": null,
   "metadata": {},
   "outputs": [],
   "source": []
  }
 ],
 "metadata": {
  "kernelspec": {
   "display_name": "jlab_nemo_validation",
   "language": "python",
   "name": "jlab_nemo_validation"
  },
  "language_info": {
   "codemirror_mode": {
    "name": "ipython",
    "version": 3
   },
   "file_extension": ".py",
   "mimetype": "text/x-python",
   "name": "python",
   "nbconvert_exporter": "python",
   "pygments_lexer": "ipython3",
   "version": "3.12.7"
  }
 },
 "nbformat": 4,
 "nbformat_minor": 2
}
