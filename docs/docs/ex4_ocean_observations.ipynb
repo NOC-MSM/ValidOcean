{
 "cells": [
  {
   "cell_type": "markdown",
   "metadata": {},
   "source": [
    "# **Accessing Ocean Observations with ValidOcean**\n",
    "\n",
    "#### **Description:**\n",
    "This tutorial notebook explores how to use the ModelValidator class to access ocean observations stored in the cloud.\n",
    "\n",
    "To demonstrate how to access ocean observations, we will first introduce the core concept of **DataLoaders**, which are responsible for loading data from Analysis-Ready Cloud Optimised (ARCO) zarr stores in the JASMIN Object Store.\n",
    "\n",
    "### **Contact:**\n",
    "Ollie Tooth (oliver.tooth@noc.ac.uk)"
   ]
  },
  {
   "cell_type": "code",
   "execution_count": 1,
   "metadata": {},
   "outputs": [
    {
     "name": "stderr",
     "output_type": "stream",
     "text": [
      "/home/otooth/miniconda3/envs/env_nemo_validation/lib/python3.12/site-packages/esmpy/interface/loadESMF.py:94: VersionWarning: ESMF installation version 8.8.0, ESMPy version 8.8.0b0\n",
      "  warnings.warn(\"ESMF installation version {}, ESMPy version {}\".format(\n"
     ]
    }
   ],
   "source": [
    "# -- Import required libraries -- #\n",
    "import xarray as xr\n",
    "from ValidOcean import ModelValidator\n",
    "from ValidOcean import DataLoader"
   ]
  },
  {
   "cell_type": "markdown",
   "metadata": {},
   "source": [
    "#### **Introducing DataLoaders**\n",
    "\n",
    "One of the foundational concepts behind the ValidOcean library was to enable users to access ocean observations data stored in [zarr](https://zarr.dev) format in the cloud through a method that is independent of their local or remote machine.\n",
    "\n",
    "A major benefit of storing ocean observations in cloud object storage is that users can then directly access this data via a read-only URL.\n",
    "\n",
    "In ValidOcean, we've taken this data accessibility one step further by creating DataLoaders which load ocean observations from the JASMIN object store and pre-process them into a standardised [xarray Dataset](https://docs.xarray.dev/en/latest/user-guide/data-structures.html).\n",
    "\n",
    "To understand how DataLoaders work, let's start with an example of accessing the National Snow & Ice Data Centre (NSIDC) Sea Ice Index version 3..."
   ]
  },
  {
   "cell_type": "code",
   "execution_count": 2,
   "metadata": {},
   "outputs": [
    {
     "name": "stderr",
     "output_type": "stream",
     "text": [
      "/dssgfs01/working/otooth/Diagnostics/ValidOcean/ValidOcean/processing.py:208: RuntimeWarning: [longitude: -180, 180; latitude: -90, 90] bounds are outside the range of available observations data [longitude: -180.0, 179.81397539549246; latitude: 31.102671752463447, 89.83681599961737].\n",
      "  warnings.warn(warning_message, RuntimeWarning)\n"
     ]
    },
    {
     "data": {
      "text/plain": [
       "\n",
       "<ModelValidator>\n",
       "\n",
       "-- Model Data --\n",
       "\n",
       "<xarray.Dataset> Size: 0B\n",
       "Dimensions:  ()\n",
       "Data variables:\n",
       "    *empty*\n",
       "\n",
       "-- Observations --\n",
       "\n",
       "<xarray.Dataset> Size: 605MB\n",
       "Dimensions:            (y_nsidc: 448, x_nsidc: 304, time_nsidc: 553)\n",
       "Coordinates:\n",
       "    band_nsidc         int64 8B 1\n",
       "    lat_nsidc          (y_nsidc, x_nsidc) float64 1MB 31.1 31.2 ... 34.58 34.47\n",
       "    lon_nsidc          (y_nsidc, x_nsidc) float64 1MB 168.3 168.1 ... -9.999\n",
       "    spatial_ref_nsidc  int64 8B 0\n",
       "  * time_nsidc         (time_nsidc) datetime64[ns] 4kB 1978-11-15 ... 2025-01-15\n",
       "  * x_nsidc            (x_nsidc) float64 2kB -3.838e+06 -3.812e+06 ... 3.738e+06\n",
       "  * y_nsidc            (y_nsidc) float64 4kB 5.838e+06 5.812e+06 ... -5.338e+06\n",
       "Data variables:\n",
       "    siconc_nsidc       (time_nsidc, y_nsidc, x_nsidc) float64 603MB dask.array<chunksize=(12, 448, 304), meta=np.ndarray>\n",
       "\n",
       "-- Results --\n",
       "\n",
       "<xarray.Dataset> Size: 0B\n",
       "Dimensions:  ()\n",
       "Data variables:\n",
       "    *empty*\n",
       "\n",
       "-- Stats --\n",
       "\n",
       "<xarray.Dataset> Size: 0B\n",
       "Dimensions:  ()\n",
       "Data variables:\n",
       "    *empty*"
      ]
     },
     "execution_count": 2,
     "metadata": {},
     "output_type": "execute_result"
    }
   ],
   "source": [
    "# Create an empty ModelValidator object:\n",
    "mv = ModelValidator()\n",
    "\n",
    "# Load NSIDC Arctic Sea Ice Concentration data:\n",
    "mv.load_observations(obs_name='NSIDC',\n",
    "                     var_name='siconc',\n",
    "                     region='arctic',\n",
    "                     )"
   ]
  },
  {
   "cell_type": "markdown",
   "metadata": {},
   "source": [
    "In the example above, we created an empty ``ModelValidator()`` object and then used the ``.load_observations()`` method to load a lazy Dataset (i.e., comprised of [dask](https://www.dask.org) arrays which are not yet loaded into memory) including Arctic sea ice concentration data for the entire period of available observations (1978-2025).\n",
    "\n",
    "Behind the scenes, the ``.load_observations()`` method calls the private ``._load_obs_data()`` method, which in-turn creates an instance of the ``NSIDCLoader()`` class and calls its ``._load_data()`` method. This is the standard process for loading ocean observations data in ValidOcean, including by the plotting and compute methods introduced in Examples 2 & 3. The resulting ocean observations dataset is accessible via the ``.obs`` attribute.\n",
    "\n",
    "Let's consider another example where we would like to load monthly sea surface temperature observations from the Met Office Hadley Centre Monthly Median (HadISST1) product for a regional subdomain and a custom time window..."
   ]
  },
  {
   "cell_type": "code",
   "execution_count": 3,
   "metadata": {},
   "outputs": [
    {
     "name": "stderr",
     "output_type": "stream",
     "text": [
      "/dssgfs01/working/otooth/Diagnostics/ValidOcean/ValidOcean/processing.py:131: RuntimeWarning: time_bounds 2020-01 - 2025-12 are outside the range of available observations data 1870-01-16 - 2024-09-16.\n",
      "  warnings.warn(warning_message, RuntimeWarning)\n"
     ]
    },
    {
     "data": {
      "text/plain": [
       "\n",
       "<ModelValidator>\n",
       "\n",
       "-- Model Data --\n",
       "\n",
       "<xarray.Dataset> Size: 0B\n",
       "Dimensions:  ()\n",
       "Data variables:\n",
       "    *empty*\n",
       "\n",
       "-- Observations --\n",
       "\n",
       "<xarray.Dataset> Size: 1MB\n",
       "Dimensions:       (lat_hadisst: 70, lon_hadisst: 80, time_hadisst: 57)\n",
       "Coordinates:\n",
       "  * lat_hadisst   (lat_hadisst) float32 280B 89.5 88.5 87.5 ... 22.5 21.5 20.5\n",
       "  * lon_hadisst   (lon_hadisst) float32 320B -74.5 -73.5 -72.5 ... 2.5 3.5 4.5\n",
       "  * time_hadisst  (time_hadisst) datetime64[ns] 456B 2020-01-16T12:00:00 ... ...\n",
       "Data variables:\n",
       "    sst_hadisst   (time_hadisst, lat_hadisst, lon_hadisst) float32 1MB dask.array<chunksize=(57, 70, 80), meta=np.ndarray>\n",
       "\n",
       "-- Results --\n",
       "\n",
       "<xarray.Dataset> Size: 0B\n",
       "Dimensions:  ()\n",
       "Data variables:\n",
       "    *empty*\n",
       "\n",
       "-- Stats --\n",
       "\n",
       "<xarray.Dataset> Size: 0B\n",
       "Dimensions:  ()\n",
       "Data variables:\n",
       "    *empty*"
      ]
     },
     "execution_count": 3,
     "metadata": {},
     "output_type": "execute_result"
    }
   ],
   "source": [
    "# Create a new, empty ModelValidator object:\n",
    "mv = ModelValidator()\n",
    "\n",
    "# Load NOAA OISSTv2 SST data:\n",
    "mv.load_observations(obs_name='HadISST',\n",
    "                     var_name='sst',\n",
    "                     lon_bounds=(-75, 5),\n",
    "                     lat_bounds=(20, 90),\n",
    "                     time_bounds=slice('2020-01', '2025-12'),\n",
    "                     freq=None,\n",
    "                     )"
   ]
  },
  {
   "cell_type": "markdown",
   "metadata": {},
   "source": [
    "#### **Visualising Ocean Observations**\n",
    "\n",
    "Let's make a quick visualisation of the time-mean regional OISSTv2 sea surface temperatures by accessing the data directly via the ``.obs`` attribute..."
   ]
  },
  {
   "cell_type": "code",
   "execution_count": 4,
   "metadata": {},
   "outputs": [
    {
     "data": {
      "text/plain": [
       "<matplotlib.collections.QuadMesh at 0x14740f37b980>"
      ]
     },
     "execution_count": 4,
     "metadata": {},
     "output_type": "execute_result"
    },
    {
     "data": {
      "image/png": "[encoded data removed]",
      "text/plain": [
       "<Figure size 640x480 with 2 Axes>"
      ]
     },
     "metadata": {},
     "output_type": "display_data"
    }
   ],
   "source": [
    "# Plotting the time-mean SST:\n",
    "mv.obs['sst_hadisst'].mean(dim='time_hadisst').plot()"
   ]
  },
  {
   "cell_type": "markdown",
   "metadata": {},
   "source": [
    "#### **Custom DataLoaders**\n",
    "\n",
    "A major advantage of the generalised approach to loading observations introduced above is that users can easily extend the ValidOcean library by adding custom DataLoaders.\n",
    "\n",
    "Below we can see an example DataLoader which inherits the DataLoader Abstract Base Class & could be used to load ocean observations from a local file system or alternative cloud object storage provider..."
   ]
  },
  {
   "cell_type": "code",
   "execution_count": 5,
   "metadata": {},
   "outputs": [],
   "source": [
    "class MyLoader(DataLoader):\n",
    "    \"\"\"\n",
    "    Example DataLoader to load ocean observations stored\n",
    "    on a local filesystem or cloud object storage.\n",
    "\n",
    "    Parameters\n",
    "    ----------\n",
    "    var_name : str, default: ``my_variable``\n",
    "        Name of variable to load from example ocean observations.\n",
    "        Options include ``my_variable``, ``my_other_variable``.\n",
    "    time_bounds : slice, str, default: None\n",
    "        Time bounds to compute climatology using example ocean observations.\n",
    "        Default is ``None``, meaning the entire dataset is considered.\n",
    "    lon_bounds : tuple, default: None\n",
    "        Longitude bounds to extract from example ocean observations.\n",
    "        Default is ``None``, meaning the entire longitude range is loaded.\n",
    "    lat_bounds : tuple, default: None\n",
    "        Latitude bounds to extract from example ocean observations.\n",
    "        Default is ``None``, meaning the entire latitude range is loaded.\n",
    "    freq : str, default: ``None``\n",
    "        Climatology frequency of the example ocean observations.\n",
    "        Options include ``None``, ``total``, ``seasonal``, ``monthly``,\n",
    "        ``jan``, ``feb`` etc. for individual months. Default is``None``\n",
    "        meaning no climatology is computed from monthly data.\n",
    "    \"\"\"\n",
    "    def __init__(self,\n",
    "                 var_name: str = 'my_variable',\n",
    "                 region: str | None = None,\n",
    "                 time_bounds: slice | str | None = None,\n",
    "                 lon_bounds: tuple | None = None,\n",
    "                 lat_bounds: tuple | None = None,\n",
    "                 freq: str | None = None,\n",
    "                 ):\n",
    "\n",
    "        # -- Verify Inputs -- #\n",
    "        if var_name not in ['my_variable', 'my_other_variable']:\n",
    "            raise ValueError(\"``var_name`` must be one of 'my_variable', 'my_other_variable'.\")\n",
    "\n",
    "        # -- Initialise DataLoader -- #\n",
    "        super().__init__(var_name=var_name,\n",
    "                         region=region,\n",
    "                         source='jasmin-os', # <- Modify to your cloud object storage or local filepath.\n",
    "                         time_bounds=time_bounds,\n",
    "                         lon_bounds=lon_bounds,\n",
    "                         lat_bounds=lat_bounds,\n",
    "                         freq=freq)\n",
    "\n",
    "    def _load_data(self) -> xr.DataArray:\n",
    "        \"\"\"\n",
    "        Load example ocean observations data & optionally\n",
    "        compute climatology using cloud object storage or\n",
    "        a local filesystem.\n",
    "\n",
    "        Returns\n",
    "        -------\n",
    "        xarray.DataArray\n",
    "            Dataset storing example ocean observations data\n",
    "            or option climatology at specified frequency.\n",
    "        \"\"\"\n",
    "        # Load data from our chosen source:\n",
    "        url = f\"{self._source}/Example/Example_global_monthly_1980_2025/\"\n",
    "\n",
    "        # Data to inherit source attributes:\n",
    "        source = xr.open_zarr(url, consolidated=True) # <- Alternatively, use xr.open_dataset() for NetCDF files.\n",
    "        data = source[self._var_name]\n",
    "        data.attrs = source.attrs\n",
    "\n",
    "        # Extract observations for specified time, longitude and latitude bounds:\n",
    "        data = _apply_spatial_bounds(data, lon_bounds=self._lon_bounds, lat_bounds=self._lat_bounds)\n",
    "\n",
    "        if isinstance(self._time_bounds, slice):\n",
    "            data = _apply_time_bounds(data, time_bounds=self._time_bounds)\n",
    "\n",
    "        # Compute climatology:\n",
    "        if self._freq is not None:\n",
    "            data = _compute_climatology(data, freq=self._freq)\n",
    "\n",
    "        # Add spatial bounds to attributes:\n",
    "        data.attrs[\"lon_bounds\"], data.attrs[\"lat_bounds\"] = _get_spatial_bounds(lon=data[\"lon\"], lat=data[\"lat\"])\n",
    "\n",
    "        return data\n"
   ]
  },
  {
   "cell_type": "markdown",
   "metadata": {},
   "source": [
    "#### **Anatomy of a Custom DataLoader**\n",
    "\n",
    "Initially, there looks like a lot of code in the example DataLoader shown above, but actually there are only two components needed to create a DataLoader.\n",
    "\n",
    "1. **Defining our Class with an ``__init__()`` method.**\n",
    "\n",
    "- This is how ValidOcean will create an instance of the class. Notice that we use ``super().__init__()`` to pass the input arguments to our ``MyLoader()`` class to the ``DataLoader()`` abstract base class that it inherits. This step ensures that our new DataLoader conforms to the standards required for use in ValidOcean.\n",
    "\n",
    "2. **Defining a ``._load_data()`` method.**\n",
    "\n",
    "- This method is a requirement for every DataLoader and should use the attributes of the DataLoader to load ocean observations as an xarray Dataset. In the example above, we have included several useful pre-processing steps that you will find in each of the core DataLoaders included with ValidOcean.\n"
   ]
  },
  {
   "cell_type": "markdown",
   "metadata": {},
   "source": [
    "#### **Using a Custom DataLoader**\n",
    "\n",
    "To use our custom DataLoader in a validation workflow, we can pass the ``MyLoader()`` object as the ``dataloader`` argument when creating a ModelValidator() object..."
   ]
  },
  {
   "cell_type": "code",
   "execution_count": 6,
   "metadata": {},
   "outputs": [
    {
     "data": {
      "text/plain": [
       "\n",
       "<ModelValidator>\n",
       "\n",
       "-- Model Data --\n",
       "\n",
       "<xarray.Dataset> Size: 0B\n",
       "Dimensions:  ()\n",
       "Data variables:\n",
       "    *empty*\n",
       "\n",
       "-- Observations --\n",
       "\n",
       "<xarray.Dataset> Size: 0B\n",
       "Dimensions:  ()\n",
       "Data variables:\n",
       "    *empty*\n",
       "\n",
       "-- Results --\n",
       "\n",
       "<xarray.Dataset> Size: 0B\n",
       "Dimensions:  ()\n",
       "Data variables:\n",
       "    *empty*\n",
       "\n",
       "-- Stats --\n",
       "\n",
       "<xarray.Dataset> Size: 0B\n",
       "Dimensions:  ()\n",
       "Data variables:\n",
       "    *empty*"
      ]
     },
     "execution_count": 6,
     "metadata": {},
     "output_type": "execute_result"
    }
   ],
   "source": [
    "ModelValidator(mdl_data=None, dataloader=MyLoader())"
   ]
  },
  {
   "cell_type": "markdown",
   "metadata": {},
   "source": [
    "#### **Next Steps...**\n",
    "\n",
    "In this tutorial, we have seen how to use the ModelValidator object to access ocean observations stored in the cloud & how to add custom DataLoaders to extend the ValidOcean library.\n",
    "\n",
    "Next, start exploring the capabilities of ValidOcean for accelerating your own ocean model validation workflows!"
   ]
  }
 ],
 "metadata": {
  "kernelspec": {
   "display_name": "jlab_nemo_validation",
   "language": "python",
   "name": "jlab_nemo_validation"
  },
  "language_info": {
   "codemirror_mode": {
    "name": "ipython",
    "version": 3
   },
   "file_extension": ".py",
   "mimetype": "text/x-python",
   "name": "python",
   "nbconvert_exporter": "python",
   "pygments_lexer": "ipython3",
   "version": "3.12.7"
  }
 },
 "nbformat": 4,
 "nbformat_minor": 2
}
